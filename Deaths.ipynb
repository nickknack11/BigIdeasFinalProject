{
 "cells": [
  {
   "cell_type": "markdown",
   "metadata": {},
   "source": [
    "# Median Death Per Neighborhood \n",
    "## "
   ]
  },
  {
   "cell_type": "code",
   "execution_count": 2,
   "metadata": {},
   "outputs": [
    {
     "name": "stdout",
     "output_type": "stream",
     "text": [
      "                              NEIGHBORHOOD  BLACKdeaths  \\\n",
      "TOTAL MD AGE AT DEATH                                     \n",
      "53.3                             FAIRYWOOD           11   \n",
      "63.7                     ARLINGTON HEIGHTS           10   \n",
      "65.0                        ALLEGHENY WEST            3   \n",
      "66.2                        EAST ALLEGHENY           51   \n",
      "66.5                             ALLENTOWN           41   \n",
      "...                                    ...          ...   \n",
      "85.0                   SQUIRREL HILL NORTH            6   \n",
      "85.1                          POINT BREEZE           13   \n",
      "85.5                            BANKSVILLE            4   \n",
      "85.6                         NORTH OAKLAND           45   \n",
      "85.9                   SQUIRREL HILL SOUTH           58   \n",
      "\n",
      "                       Black MD AGE AT DEATH  WHITEdeaths  \\\n",
      "TOTAL MD AGE AT DEATH                                       \n",
      "53.3                                    62.5            9   \n",
      "63.7                                    55.0            7   \n",
      "65.0                                     NaN            4   \n",
      "66.2                                    62.7          100   \n",
      "66.5                                    55.6           82   \n",
      "...                                      ...          ...   \n",
      "85.0                                    75.0          231   \n",
      "85.1                                    66.7          158   \n",
      "85.5                                     NaN          247   \n",
      "85.6                                    70.9          227   \n",
      "85.9                                    83.2          721   \n",
      "\n",
      "                       White MD AGE AT DEATH  TOTALdeaths*  \n",
      "TOTAL MD AGE AT DEATH                                       \n",
      "53.3                                    42.5            21  \n",
      "63.7                                    72.5            17  \n",
      "65.0                                     NaN             8  \n",
      "66.2                                    70.0           157  \n",
      "66.5                                    72.1           126  \n",
      "...                                      ...           ...  \n",
      "85.0                                    85.3           242  \n",
      "85.1                                    85.7           175  \n",
      "85.5                                    85.5           253  \n",
      "85.6                                    86.8           279  \n",
      "85.9                                    86.2           802  \n",
      "\n",
      "[88 rows x 6 columns]\n"
     ]
    },
    {
     "data": {
      "text/html": [
       "<div>\n",
       "<style scoped>\n",
       "    .dataframe tbody tr th:only-of-type {\n",
       "        vertical-align: middle;\n",
       "    }\n",
       "\n",
       "    .dataframe tbody tr th {\n",
       "        vertical-align: top;\n",
       "    }\n",
       "\n",
       "    .dataframe thead th {\n",
       "        text-align: right;\n",
       "    }\n",
       "</style>\n",
       "<table border=\"1\" class=\"dataframe\">\n",
       "  <thead>\n",
       "    <tr style=\"text-align: right;\">\n",
       "      <th></th>\n",
       "      <th>NEIGHBORHOOD</th>\n",
       "      <th>BLACKdeaths</th>\n",
       "      <th>Black MD AGE AT DEATH</th>\n",
       "      <th>WHITEdeaths</th>\n",
       "      <th>White MD AGE AT DEATH</th>\n",
       "      <th>TOTALdeaths*</th>\n",
       "    </tr>\n",
       "    <tr>\n",
       "      <th>TOTAL MD AGE AT DEATH</th>\n",
       "      <th></th>\n",
       "      <th></th>\n",
       "      <th></th>\n",
       "      <th></th>\n",
       "      <th></th>\n",
       "      <th></th>\n",
       "    </tr>\n",
       "  </thead>\n",
       "  <tbody>\n",
       "    <tr>\n",
       "      <th>85.0</th>\n",
       "      <td>SQUIRREL HILL NORTH</td>\n",
       "      <td>6</td>\n",
       "      <td>75.0</td>\n",
       "      <td>231</td>\n",
       "      <td>85.3</td>\n",
       "      <td>242</td>\n",
       "    </tr>\n",
       "    <tr>\n",
       "      <th>85.1</th>\n",
       "      <td>POINT BREEZE</td>\n",
       "      <td>13</td>\n",
       "      <td>66.7</td>\n",
       "      <td>158</td>\n",
       "      <td>85.7</td>\n",
       "      <td>175</td>\n",
       "    </tr>\n",
       "    <tr>\n",
       "      <th>85.5</th>\n",
       "      <td>BANKSVILLE</td>\n",
       "      <td>4</td>\n",
       "      <td>NaN</td>\n",
       "      <td>247</td>\n",
       "      <td>85.5</td>\n",
       "      <td>253</td>\n",
       "    </tr>\n",
       "    <tr>\n",
       "      <th>85.6</th>\n",
       "      <td>NORTH OAKLAND</td>\n",
       "      <td>45</td>\n",
       "      <td>70.9</td>\n",
       "      <td>227</td>\n",
       "      <td>86.8</td>\n",
       "      <td>279</td>\n",
       "    </tr>\n",
       "    <tr>\n",
       "      <th>85.9</th>\n",
       "      <td>SQUIRREL HILL SOUTH</td>\n",
       "      <td>58</td>\n",
       "      <td>83.2</td>\n",
       "      <td>721</td>\n",
       "      <td>86.2</td>\n",
       "      <td>802</td>\n",
       "    </tr>\n",
       "  </tbody>\n",
       "</table>\n",
       "</div>"
      ],
      "text/plain": [
       "                              NEIGHBORHOOD  BLACKdeaths  \\\n",
       "TOTAL MD AGE AT DEATH                                     \n",
       "85.0                   SQUIRREL HILL NORTH            6   \n",
       "85.1                          POINT BREEZE           13   \n",
       "85.5                            BANKSVILLE            4   \n",
       "85.6                         NORTH OAKLAND           45   \n",
       "85.9                   SQUIRREL HILL SOUTH           58   \n",
       "\n",
       "                       Black MD AGE AT DEATH  WHITEdeaths  \\\n",
       "TOTAL MD AGE AT DEATH                                       \n",
       "85.0                                    75.0          231   \n",
       "85.1                                    66.7          158   \n",
       "85.5                                     NaN          247   \n",
       "85.6                                    70.9          227   \n",
       "85.9                                    83.2          721   \n",
       "\n",
       "                       White MD AGE AT DEATH  TOTALdeaths*  \n",
       "TOTAL MD AGE AT DEATH                                       \n",
       "85.0                                    85.3           242  \n",
       "85.1                                    85.7           175  \n",
       "85.5                                    85.5           253  \n",
       "85.6                                    86.8           279  \n",
       "85.9                                    86.2           802  "
      ]
     },
     "execution_count": 2,
     "metadata": {},
     "output_type": "execute_result"
    }
   ],
   "source": [
    "\n",
    "import pandas as pd\n",
    "%matplotlib inline\n",
    "\n",
    "data = pd.read_csv(\"meddeath.csv\", index_col=\"TOTAL MD AGE AT DEATH\", parse_dates=True)\n",
    "print(data)\n",
    "data.tail(5)\n"
   ]
  },
  {
   "cell_type": "code",
   "execution_count": 7,
   "metadata": {},
   "outputs": [
    {
     "data": {
      "image/png": "[encoded data removed]",
      "text/plain": [
       "<Figure size 1440x1080 with 1 Axes>"
      ]
     },
     "metadata": {
      "needs_background": "light"
     },
     "output_type": "display_data"
    }
   ],
   "source": [
    "top = pd.DataFrame({'Neighborhood':['FAIRYWOOD','ARLINGTON HEIGHTS', 'ALLEGHENY WEST', 'EAST ALLEGHENY', 'ALLENTOWN', 'SQRL HILL N', 'POINT BREEZE', 'BANKSVILLE', 'NORTH O', 'SQRL HILL S',], 'AGE AT DEATH':[53.3, 63.7, 65, 66.2, 66.5, 85, 85.1, 85.5, 85.6, 85.9]})\n",
    "ax = top.plot.bar(x='Neighborhood', y='AGE AT DEATH', rot=0, figsize= (20,15))\n"
   ]
  },
  {
   "cell_type": "code",
   "execution_count": 4,
   "metadata": {},
   "outputs": [
    {
     "data": {
      "text/html": [
       "<div>\n",
       "<style scoped>\n",
       "    .dataframe tbody tr th:only-of-type {\n",
       "        vertical-align: middle;\n",
       "    }\n",
       "\n",
       "    .dataframe tbody tr th {\n",
       "        vertical-align: top;\n",
       "    }\n",
       "\n",
       "    .dataframe thead th {\n",
       "        text-align: right;\n",
       "    }\n",
       "</style>\n",
       "<table border=\"1\" class=\"dataframe\">\n",
       "  <thead>\n",
       "    <tr style=\"text-align: right;\">\n",
       "      <th></th>\n",
       "      <th>NEIGHBORHOOD</th>\n",
       "      <th>BLACKdeaths</th>\n",
       "      <th>Black MD AGE AT DEATH</th>\n",
       "      <th>WHITEdeaths</th>\n",
       "      <th>White MD AGE AT DEATH</th>\n",
       "      <th>TOTALdeaths*</th>\n",
       "    </tr>\n",
       "    <tr>\n",
       "      <th>TOTAL MD AGE AT DEATH</th>\n",
       "      <th></th>\n",
       "      <th></th>\n",
       "      <th></th>\n",
       "      <th></th>\n",
       "      <th></th>\n",
       "      <th></th>\n",
       "    </tr>\n",
       "  </thead>\n",
       "  <tbody>\n",
       "    <tr>\n",
       "      <th>53.3</th>\n",
       "      <td>FAIRYWOOD</td>\n",
       "      <td>11</td>\n",
       "      <td>62.5</td>\n",
       "      <td>9</td>\n",
       "      <td>42.5</td>\n",
       "      <td>21</td>\n",
       "    </tr>\n",
       "    <tr>\n",
       "      <th>63.7</th>\n",
       "      <td>ARLINGTON HEIGHTS</td>\n",
       "      <td>10</td>\n",
       "      <td>55.0</td>\n",
       "      <td>7</td>\n",
       "      <td>72.5</td>\n",
       "      <td>17</td>\n",
       "    </tr>\n",
       "    <tr>\n",
       "      <th>65.0</th>\n",
       "      <td>ALLEGHENY WEST</td>\n",
       "      <td>3</td>\n",
       "      <td>NaN</td>\n",
       "      <td>4</td>\n",
       "      <td>NaN</td>\n",
       "      <td>8</td>\n",
       "    </tr>\n",
       "    <tr>\n",
       "      <th>66.2</th>\n",
       "      <td>EAST ALLEGHENY</td>\n",
       "      <td>51</td>\n",
       "      <td>62.7</td>\n",
       "      <td>100</td>\n",
       "      <td>70.0</td>\n",
       "      <td>157</td>\n",
       "    </tr>\n",
       "    <tr>\n",
       "      <th>66.5</th>\n",
       "      <td>ALLENTOWN</td>\n",
       "      <td>41</td>\n",
       "      <td>55.6</td>\n",
       "      <td>82</td>\n",
       "      <td>72.1</td>\n",
       "      <td>126</td>\n",
       "    </tr>\n",
       "  </tbody>\n",
       "</table>\n",
       "</div>"
      ],
      "text/plain": [
       "                            NEIGHBORHOOD  BLACKdeaths  Black MD AGE AT DEATH  \\\n",
       "TOTAL MD AGE AT DEATH                                                          \n",
       "53.3                           FAIRYWOOD           11                   62.5   \n",
       "63.7                   ARLINGTON HEIGHTS           10                   55.0   \n",
       "65.0                      ALLEGHENY WEST            3                    NaN   \n",
       "66.2                      EAST ALLEGHENY           51                   62.7   \n",
       "66.5                           ALLENTOWN           41                   55.6   \n",
       "\n",
       "                       WHITEdeaths  White MD AGE AT DEATH  TOTALdeaths*  \n",
       "TOTAL MD AGE AT DEATH                                                    \n",
       "53.3                             9                   42.5            21  \n",
       "63.7                             7                   72.5            17  \n",
       "65.0                             4                    NaN             8  \n",
       "66.2                           100                   70.0           157  \n",
       "66.5                            82                   72.1           126  "
      ]
     },
     "execution_count": 4,
     "metadata": {},
     "output_type": "execute_result"
    }
   ],
   "source": [
    "data = pd.read_csv(\"meddeath.csv\", index_col=\"TOTAL MD AGE AT DEATH\", parse_dates=True)\n",
    "data.head(5)"
   ]
  },
  {
   "cell_type": "code",
   "execution_count": 3,
   "metadata": {},
   "outputs": [
    {
     "data": {
      "image/png": "[encoded data removed]",
      "text/plain": [
       "<Figure size 1080x720 with 1 Axes>"
      ]
     },
     "metadata": {
      "needs_background": "light"
     },
     "output_type": "display_data"
    }
   ],
   "source": [
    "\n",
    "top = pd.DataFrame({'nghbr':['SQRL HILL S', 'BROOKLINE', 'CARRICK', 'BREIGHTON HGHTS', 'MT WSHNGTON'], '# OF DEATHS':[802, 750, 678, 496, 476]})\n",
    "ax = top.plot.bar(x='nghbr', y='# OF DEATHS', rot=0, figsize= (15,10)) "
   ]
  },
  {
   "cell_type": "code",
   "execution_count": null,
   "metadata": {},
   "outputs": [],
   "source": []
  }
 ],
 "metadata": {
  "kernelspec": {
   "display_name": "Python 3",
   "language": "python",
   "name": "python3"
  },
  "language_info": {
   "codemirror_mode": {
    "name": "ipython",
    "version": 3
   },
   "file_extension": ".py",
   "mimetype": "text/x-python",
   "name": "python",
   "nbconvert_exporter": "python",
   "pygments_lexer": "ipython3",
   "version": "3.8.3"
  }
 },
 "nbformat": 4,
 "nbformat_minor": 4
}
